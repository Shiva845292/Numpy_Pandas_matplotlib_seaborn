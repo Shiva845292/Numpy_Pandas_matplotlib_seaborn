{
 "cells": [
  {
   "cell_type": "code",
   "execution_count": 8,
   "id": "77afadd2",
   "metadata": {},
   "outputs": [
    {
     "data": {
      "text/plain": [
       "array([[[10., 10., 10., 10., 10.],\n",
       "        [10., 10., 10., 10., 10.],\n",
       "        [10., 10., 10., 10., 10.],\n",
       "        [10., 10., 10., 10., 10.]],\n",
       "\n",
       "       [[10., 10., 10., 10., 10.],\n",
       "        [10., 10., 10., 10., 10.],\n",
       "        [10., 10., 10., 10., 10.],\n",
       "        [10., 10., 10., 10., 10.]],\n",
       "\n",
       "       [[10., 10., 10., 10., 10.],\n",
       "        [10., 10., 10., 10., 10.],\n",
       "        [10., 10., 10., 10., 10.],\n",
       "        [10., 10., 10., 10., 10.]]])"
      ]
     },
     "execution_count": 8,
     "metadata": {},
     "output_type": "execute_result"
    }
   ],
   "source": [
    "import numpy as np\n",
    "zero=np.zeros((3,4,5))+(5*2)\n",
    "zero"
   ]
  },
  {
   "cell_type": "code",
   "execution_count": 22,
   "id": "ee95aed4",
   "metadata": {},
   "outputs": [
    {
     "data": {
      "text/plain": [
       "(array([4.        , 4.05063291, 4.10126582, 4.15189873, 4.20253165,\n",
       "        4.25316456, 4.30379747, 4.35443038, 4.40506329, 4.4556962 ,\n",
       "        4.50632911, 4.55696203, 4.60759494, 4.65822785, 4.70886076,\n",
       "        4.75949367, 4.81012658, 4.86075949, 4.91139241, 4.96202532,\n",
       "        5.01265823, 5.06329114, 5.11392405, 5.16455696, 5.21518987,\n",
       "        5.26582278, 5.3164557 , 5.36708861, 5.41772152, 5.46835443,\n",
       "        5.51898734, 5.56962025, 5.62025316, 5.67088608, 5.72151899,\n",
       "        5.7721519 , 5.82278481, 5.87341772, 5.92405063, 5.97468354,\n",
       "        6.02531646, 6.07594937, 6.12658228, 6.17721519, 6.2278481 ,\n",
       "        6.27848101, 6.32911392, 6.37974684, 6.43037975, 6.48101266,\n",
       "        6.53164557, 6.58227848, 6.63291139, 6.6835443 , 6.73417722,\n",
       "        6.78481013, 6.83544304, 6.88607595, 6.93670886, 6.98734177,\n",
       "        7.03797468, 7.08860759, 7.13924051, 7.18987342, 7.24050633,\n",
       "        7.29113924, 7.34177215, 7.39240506, 7.44303797, 7.49367089,\n",
       "        7.5443038 , 7.59493671, 7.64556962, 7.69620253, 7.74683544,\n",
       "        7.79746835, 7.84810127, 7.89873418, 7.94936709, 8.        ]),\n",
       " 0.05063291139240506)"
      ]
     },
     "execution_count": 22,
     "metadata": {},
     "output_type": "execute_result"
    }
   ],
   "source": [
    "ger=np.linspace(4,8,80, retstep=True)\n",
    "ger"
   ]
  },
  {
   "cell_type": "code",
   "execution_count": 35,
   "id": "fb81271c",
   "metadata": {},
   "outputs": [
    {
     "data": {
      "text/plain": [
       "array([[ 1,  2,  3,  4,  5],\n",
       "       [ 2,  2,  3, 41,  2]])"
      ]
     },
     "execution_count": 35,
     "metadata": {},
     "output_type": "execute_result"
    }
   ],
   "source": [
    "l=[[1,2,3,4,5],[2,2,3,41,2]]\n",
    "arr=np.asarray(l)\n",
    "arr"
   ]
  },
  {
   "cell_type": "code",
   "execution_count": 52,
   "id": "41f31a04",
   "metadata": {},
   "outputs": [
    {
     "data": {
      "text/plain": [
       "matrix([[ 1,  2,  3,  4,  5],\n",
       "        [ 2,  2,  3, 41,  2]])"
      ]
     },
     "execution_count": 52,
     "metadata": {},
     "output_type": "execute_result"
    }
   ],
   "source": [
    "mat=np.matrix(arr)\n",
    "mat"
   ]
  },
  {
   "cell_type": "code",
   "execution_count": 53,
   "id": "4d37705a",
   "metadata": {},
   "outputs": [
    {
     "name": "stdout",
     "output_type": "stream",
     "text": [
      "(2, 5)\n",
      "2\n",
      "10\n"
     ]
    }
   ],
   "source": [
    "print(mat.shape)\n",
    "print(mat.ndim)\n",
    "print(mat.size)"
   ]
  },
  {
   "cell_type": "code",
   "execution_count": 49,
   "id": "b04276f8",
   "metadata": {},
   "outputs": [
    {
     "data": {
      "text/plain": [
       "matrix([[ 2,  4,  6,  8, 10],\n",
       "        [ 4,  4,  6, 82,  4]])"
      ]
     },
     "execution_count": 49,
     "metadata": {},
     "output_type": "execute_result"
    }
   ],
   "source": [
    "su=arr+mat\n",
    "su"
   ]
  },
  {
   "cell_type": "code",
   "execution_count": 43,
   "id": "9bd76989",
   "metadata": {},
   "outputs": [
    {
     "data": {
      "text/plain": [
       "array([[[1., 1.],\n",
       "        [1., 1.],\n",
       "        [1., 1.],\n",
       "        [1., 1.],\n",
       "        [1., 1.]],\n",
       "\n",
       "       [[1., 1.],\n",
       "        [1., 1.],\n",
       "        [1., 1.],\n",
       "        [1., 1.],\n",
       "        [1., 1.]]])"
      ]
     },
     "execution_count": 43,
     "metadata": {},
     "output_type": "execute_result"
    }
   ],
   "source": [
    "one=np.ones((2,5,2))\n",
    "one"
   ]
  },
  {
   "cell_type": "code",
   "execution_count": 45,
   "id": "78fd0dfc",
   "metadata": {},
   "outputs": [
    {
     "name": "stdout",
     "output_type": "stream",
     "text": [
      "20\n"
     ]
    }
   ],
   "source": [
    "print(one.size,sep=\"\")"
   ]
  },
  {
   "cell_type": "code",
   "execution_count": null,
   "id": "b0b0de71",
   "metadata": {},
   "outputs": [],
   "source": []
  }
 ],
 "metadata": {
  "kernelspec": {
   "display_name": "Python 3 (ipykernel)",
   "language": "python",
   "name": "python3"
  },
  "language_info": {
   "codemirror_mode": {
    "name": "ipython",
    "version": 3
   },
   "file_extension": ".py",
   "mimetype": "text/x-python",
   "name": "python",
   "nbconvert_exporter": "python",
   "pygments_lexer": "ipython3",
   "version": "3.9.7"
  }
 },
 "nbformat": 4,
 "nbformat_minor": 5
}
